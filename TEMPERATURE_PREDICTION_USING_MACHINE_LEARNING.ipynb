{
  "nbformat": 4,
  "nbformat_minor": 0,
  "metadata": {
    "colab": {
      "name": "TEMPERATURE_PREDICTION_USING_MACHINE_LEARNING.ipynb",
      "provenance": [],
      "collapsed_sections": [],
      "include_colab_link": true
    },
    "kernelspec": {
      "display_name": "Python 3",
      "name": "python3"
    }
  },
  "cells": [
    {
      "cell_type": "markdown",
      "metadata": {
        "id": "view-in-github",
        "colab_type": "text"
      },
      "source": [
        "<a href=\"https://colab.research.google.com/github/ViditPy/TEMPERATURE-PREDICTION-USING-MACHINE-LEARNING/blob/master/TEMPERATURE_PREDICTION_USING_MACHINE_LEARNING.ipynb\" target=\"_parent\"><img src=\"https://colab.research.google.com/assets/colab-badge.svg\" alt=\"Open In Colab\"/></a>"
      ]
    },
    {
      "cell_type": "markdown",
      "metadata": {
        "id": "hkCg5XEILMvq",
        "colab_type": "text"
      },
      "source": [
        "\"Weather in Szeged 2006-2016\" (**TEMPERATURE PREDICTION USING MACHINE LEARNING**)\n",
        "Hourly/daily summary with temperature, pressure, wind speed and more.\n",
        "\"\"Temperature Prediction using Machine learning and comparison between different regression Models\"\"\n",
        "\n",
        "This Data has been from(https://www.kaggle.com/budincsevity/szeged-weather).\n"
      ]
    },
    {
      "cell_type": "code",
      "metadata": {
        "id": "BOnCOKMyMTqJ",
        "colab_type": "code",
        "colab": {}
      },
      "source": [
        "import warnings"
      ],
      "execution_count": 0,
      "outputs": []
    },
    {
      "cell_type": "code",
      "metadata": {
        "id": "SGyYG5ylRDSz",
        "colab_type": "code",
        "outputId": "b1add135-8976-483a-f884-af2fed733d2e",
        "colab": {
          "base_uri": "https://localhost:8080/",
          "height": 238
        }
      },
      "source": [
        "weather.isnull().any()   ## Checks weather there is any null value present in the dataset"
      ],
      "execution_count": 0,
      "outputs": [
        {
          "output_type": "execute_result",
          "data": {
            "text/plain": [
              "Formatted Date              False\n",
              "Summary                     False\n",
              "Precip Type                  True\n",
              "Temperature (C)             False\n",
              "Apparent Temperature (C)    False\n",
              "Humidity                    False\n",
              "Wind Speed (km/h)           False\n",
              "Wind Bearing (degrees)      False\n",
              "Visibility (km)             False\n",
              "Loud Cover                  False\n",
              "Pressure (millibars)        False\n",
              "Daily Summary               False\n",
              "dtype: bool"
            ]
          },
          "metadata": {
            "tags": []
          },
          "execution_count": 70
        }
      ]
    },
    {
      "cell_type": "code",
      "metadata": {
        "id": "ExBGE0N4RaD2",
        "colab_type": "code",
        "colab": {}
      },
      "source": [
        ""
      ],
      "execution_count": 0,
      "outputs": []
    },
    {
      "cell_type": "code",
      "metadata": {
        "id": "OD_FJZuY0ay-",
        "colab_type": "code",
        "colab": {}
      },
      "source": [
        "warnings.filterwarnings('ignore')\n",
        "import os\n",
        "import pandas as pd\n",
        "import numpy as np\n"
      ],
      "execution_count": 0,
      "outputs": []
    },
    {
      "cell_type": "code",
      "metadata": {
        "id": "KgLjEcKn0vUJ",
        "colab_type": "code",
        "colab": {}
      },
      "source": [
        "import matplotlib.pyplot as plt\n",
        "%matplotlib inline"
      ],
      "execution_count": 0,
      "outputs": []
    },
    {
      "cell_type": "code",
      "metadata": {
        "id": "lyBAH0R81EP7",
        "colab_type": "code",
        "colab": {}
      },
      "source": [
        "import sklearn\n",
        "from sklearn.model_selection import train_test_split\n",
        "from sklearn.metrics import accuracy_score\n"
      ],
      "execution_count": 0,
      "outputs": []
    },
    {
      "cell_type": "code",
      "metadata": {
        "id": "gdTUqdnG9FMV",
        "colab_type": "code",
        "colab": {}
      },
      "source": [
        "from sklearn.linear_model import LinearRegression"
      ],
      "execution_count": 0,
      "outputs": []
    },
    {
      "cell_type": "code",
      "metadata": {
        "id": "2XBCCH0c9rwV",
        "colab_type": "code",
        "colab": {}
      },
      "source": [
        "import tensorflow as tf\n",
        "from tensorflow import keras"
      ],
      "execution_count": 0,
      "outputs": []
    },
    {
      "cell_type": "code",
      "metadata": {
        "id": "Rf1TwfCrFqal",
        "colab_type": "code",
        "colab": {}
      },
      "source": [
        "from sklearn import preprocessing"
      ],
      "execution_count": 0,
      "outputs": []
    },
    {
      "cell_type": "code",
      "metadata": {
        "id": "0y1gsGyIMdFJ",
        "colab_type": "code",
        "colab": {}
      },
      "source": [
        "weather = pd.read_csv('weatherHistory.csv')"
      ],
      "execution_count": 0,
      "outputs": []
    },
    {
      "cell_type": "code",
      "metadata": {
        "id": "v7-GkLfzPhhU",
        "colab_type": "code",
        "outputId": "9c2add5f-dea4-4ff2-cc8d-195ce57023aa",
        "colab": {
          "base_uri": "https://localhost:8080/",
          "height": 513
        }
      },
      "source": [
        "weather.head()"
      ],
      "execution_count": 0,
      "outputs": [
        {
          "output_type": "execute_result",
          "data": {
            "text/html": [
              "<div>\n",
              "<style scoped>\n",
              "    .dataframe tbody tr th:only-of-type {\n",
              "        vertical-align: middle;\n",
              "    }\n",
              "\n",
              "    .dataframe tbody tr th {\n",
              "        vertical-align: top;\n",
              "    }\n",
              "\n",
              "    .dataframe thead th {\n",
              "        text-align: right;\n",
              "    }\n",
              "</style>\n",
              "<table border=\"1\" class=\"dataframe\">\n",
              "  <thead>\n",
              "    <tr style=\"text-align: right;\">\n",
              "      <th></th>\n",
              "      <th>Formatted Date</th>\n",
              "      <th>Summary</th>\n",
              "      <th>Precip Type</th>\n",
              "      <th>Temperature (C)</th>\n",
              "      <th>Apparent Temperature (C)</th>\n",
              "      <th>Humidity</th>\n",
              "      <th>Wind Speed (km/h)</th>\n",
              "      <th>Wind Bearing (degrees)</th>\n",
              "      <th>Visibility (km)</th>\n",
              "      <th>Loud Cover</th>\n",
              "      <th>Pressure (millibars)</th>\n",
              "      <th>Daily Summary</th>\n",
              "    </tr>\n",
              "  </thead>\n",
              "  <tbody>\n",
              "    <tr>\n",
              "      <th>0</th>\n",
              "      <td>2006-04-01 00:00:00.000 +0200</td>\n",
              "      <td>Partly Cloudy</td>\n",
              "      <td>rain</td>\n",
              "      <td>9.472222</td>\n",
              "      <td>7.388889</td>\n",
              "      <td>0.89</td>\n",
              "      <td>14.1197</td>\n",
              "      <td>251.0</td>\n",
              "      <td>15.8263</td>\n",
              "      <td>0.0</td>\n",
              "      <td>1015.13</td>\n",
              "      <td>Partly cloudy throughout the day.</td>\n",
              "    </tr>\n",
              "    <tr>\n",
              "      <th>1</th>\n",
              "      <td>2006-04-01 01:00:00.000 +0200</td>\n",
              "      <td>Partly Cloudy</td>\n",
              "      <td>rain</td>\n",
              "      <td>9.355556</td>\n",
              "      <td>7.227778</td>\n",
              "      <td>0.86</td>\n",
              "      <td>14.2646</td>\n",
              "      <td>259.0</td>\n",
              "      <td>15.8263</td>\n",
              "      <td>0.0</td>\n",
              "      <td>1015.63</td>\n",
              "      <td>Partly cloudy throughout the day.</td>\n",
              "    </tr>\n",
              "    <tr>\n",
              "      <th>2</th>\n",
              "      <td>2006-04-01 02:00:00.000 +0200</td>\n",
              "      <td>Mostly Cloudy</td>\n",
              "      <td>rain</td>\n",
              "      <td>9.377778</td>\n",
              "      <td>9.377778</td>\n",
              "      <td>0.89</td>\n",
              "      <td>3.9284</td>\n",
              "      <td>204.0</td>\n",
              "      <td>14.9569</td>\n",
              "      <td>0.0</td>\n",
              "      <td>1015.94</td>\n",
              "      <td>Partly cloudy throughout the day.</td>\n",
              "    </tr>\n",
              "    <tr>\n",
              "      <th>3</th>\n",
              "      <td>2006-04-01 03:00:00.000 +0200</td>\n",
              "      <td>Partly Cloudy</td>\n",
              "      <td>rain</td>\n",
              "      <td>8.288889</td>\n",
              "      <td>5.944444</td>\n",
              "      <td>0.83</td>\n",
              "      <td>14.1036</td>\n",
              "      <td>269.0</td>\n",
              "      <td>15.8263</td>\n",
              "      <td>0.0</td>\n",
              "      <td>1016.41</td>\n",
              "      <td>Partly cloudy throughout the day.</td>\n",
              "    </tr>\n",
              "    <tr>\n",
              "      <th>4</th>\n",
              "      <td>2006-04-01 04:00:00.000 +0200</td>\n",
              "      <td>Mostly Cloudy</td>\n",
              "      <td>rain</td>\n",
              "      <td>8.755556</td>\n",
              "      <td>6.977778</td>\n",
              "      <td>0.83</td>\n",
              "      <td>11.0446</td>\n",
              "      <td>259.0</td>\n",
              "      <td>15.8263</td>\n",
              "      <td>0.0</td>\n",
              "      <td>1016.51</td>\n",
              "      <td>Partly cloudy throughout the day.</td>\n",
              "    </tr>\n",
              "  </tbody>\n",
              "</table>\n",
              "</div>"
            ],
            "text/plain": [
              "                  Formatted Date  ...                      Daily Summary\n",
              "0  2006-04-01 00:00:00.000 +0200  ...  Partly cloudy throughout the day.\n",
              "1  2006-04-01 01:00:00.000 +0200  ...  Partly cloudy throughout the day.\n",
              "2  2006-04-01 02:00:00.000 +0200  ...  Partly cloudy throughout the day.\n",
              "3  2006-04-01 03:00:00.000 +0200  ...  Partly cloudy throughout the day.\n",
              "4  2006-04-01 04:00:00.000 +0200  ...  Partly cloudy throughout the day.\n",
              "\n",
              "[5 rows x 12 columns]"
            ]
          },
          "metadata": {
            "tags": []
          },
          "execution_count": 66
        }
      ]
    },
    {
      "cell_type": "code",
      "metadata": {
        "id": "BG3evygrPsma",
        "colab_type": "code",
        "outputId": "b6719c7c-cdfb-4c59-a9a3-19b3e3677a25",
        "colab": {
          "base_uri": "https://localhost:8080/",
          "height": 102
        }
      },
      "source": [
        "weather.columns"
      ],
      "execution_count": 0,
      "outputs": [
        {
          "output_type": "execute_result",
          "data": {
            "text/plain": [
              "Index(['Formatted Date', 'Summary', 'Precip Type', 'Temperature (C)',\n",
              "       'Apparent Temperature (C)', 'Humidity', 'Wind Speed (km/h)',\n",
              "       'Wind Bearing (degrees)', 'Visibility (km)', 'Loud Cover',\n",
              "       'Pressure (millibars)', 'Daily Summary'],\n",
              "      dtype='object')"
            ]
          },
          "metadata": {
            "tags": []
          },
          "execution_count": 67
        }
      ]
    },
    {
      "cell_type": "code",
      "metadata": {
        "id": "QW22AccHPwEZ",
        "colab_type": "code",
        "outputId": "c702f854-1461-4e41-df52-1eb485f3074e",
        "colab": {
          "base_uri": "https://localhost:8080/",
          "height": 34
        }
      },
      "source": [
        "weather.shape"
      ],
      "execution_count": 0,
      "outputs": [
        {
          "output_type": "execute_result",
          "data": {
            "text/plain": [
              "(96453, 12)"
            ]
          },
          "metadata": {
            "tags": []
          },
          "execution_count": 68
        }
      ]
    },
    {
      "cell_type": "code",
      "metadata": {
        "id": "XA5XPC-rQJze",
        "colab_type": "code",
        "outputId": "27f07335-73f4-4bc6-c691-0bc0782d72b9",
        "colab": {
          "base_uri": "https://localhost:8080/",
          "height": 314
        }
      },
      "source": [
        "weather.describe()"
      ],
      "execution_count": 0,
      "outputs": [
        {
          "output_type": "execute_result",
          "data": {
            "text/html": [
              "<div>\n",
              "<style scoped>\n",
              "    .dataframe tbody tr th:only-of-type {\n",
              "        vertical-align: middle;\n",
              "    }\n",
              "\n",
              "    .dataframe tbody tr th {\n",
              "        vertical-align: top;\n",
              "    }\n",
              "\n",
              "    .dataframe thead th {\n",
              "        text-align: right;\n",
              "    }\n",
              "</style>\n",
              "<table border=\"1\" class=\"dataframe\">\n",
              "  <thead>\n",
              "    <tr style=\"text-align: right;\">\n",
              "      <th></th>\n",
              "      <th>Temperature (C)</th>\n",
              "      <th>Apparent Temperature (C)</th>\n",
              "      <th>Humidity</th>\n",
              "      <th>Wind Speed (km/h)</th>\n",
              "      <th>Wind Bearing (degrees)</th>\n",
              "      <th>Visibility (km)</th>\n",
              "      <th>Loud Cover</th>\n",
              "      <th>Pressure (millibars)</th>\n",
              "    </tr>\n",
              "  </thead>\n",
              "  <tbody>\n",
              "    <tr>\n",
              "      <th>count</th>\n",
              "      <td>96453.000000</td>\n",
              "      <td>96453.000000</td>\n",
              "      <td>96453.000000</td>\n",
              "      <td>96453.000000</td>\n",
              "      <td>96453.000000</td>\n",
              "      <td>96453.000000</td>\n",
              "      <td>96453.0</td>\n",
              "      <td>96453.000000</td>\n",
              "    </tr>\n",
              "    <tr>\n",
              "      <th>mean</th>\n",
              "      <td>11.932678</td>\n",
              "      <td>10.855029</td>\n",
              "      <td>0.734899</td>\n",
              "      <td>10.810640</td>\n",
              "      <td>187.509232</td>\n",
              "      <td>10.347325</td>\n",
              "      <td>0.0</td>\n",
              "      <td>1003.235956</td>\n",
              "    </tr>\n",
              "    <tr>\n",
              "      <th>std</th>\n",
              "      <td>9.551546</td>\n",
              "      <td>10.696847</td>\n",
              "      <td>0.195473</td>\n",
              "      <td>6.913571</td>\n",
              "      <td>107.383428</td>\n",
              "      <td>4.192123</td>\n",
              "      <td>0.0</td>\n",
              "      <td>116.969906</td>\n",
              "    </tr>\n",
              "    <tr>\n",
              "      <th>min</th>\n",
              "      <td>-21.822222</td>\n",
              "      <td>-27.716667</td>\n",
              "      <td>0.000000</td>\n",
              "      <td>0.000000</td>\n",
              "      <td>0.000000</td>\n",
              "      <td>0.000000</td>\n",
              "      <td>0.0</td>\n",
              "      <td>0.000000</td>\n",
              "    </tr>\n",
              "    <tr>\n",
              "      <th>25%</th>\n",
              "      <td>4.688889</td>\n",
              "      <td>2.311111</td>\n",
              "      <td>0.600000</td>\n",
              "      <td>5.828200</td>\n",
              "      <td>116.000000</td>\n",
              "      <td>8.339800</td>\n",
              "      <td>0.0</td>\n",
              "      <td>1011.900000</td>\n",
              "    </tr>\n",
              "    <tr>\n",
              "      <th>50%</th>\n",
              "      <td>12.000000</td>\n",
              "      <td>12.000000</td>\n",
              "      <td>0.780000</td>\n",
              "      <td>9.965900</td>\n",
              "      <td>180.000000</td>\n",
              "      <td>10.046400</td>\n",
              "      <td>0.0</td>\n",
              "      <td>1016.450000</td>\n",
              "    </tr>\n",
              "    <tr>\n",
              "      <th>75%</th>\n",
              "      <td>18.838889</td>\n",
              "      <td>18.838889</td>\n",
              "      <td>0.890000</td>\n",
              "      <td>14.135800</td>\n",
              "      <td>290.000000</td>\n",
              "      <td>14.812000</td>\n",
              "      <td>0.0</td>\n",
              "      <td>1021.090000</td>\n",
              "    </tr>\n",
              "    <tr>\n",
              "      <th>max</th>\n",
              "      <td>39.905556</td>\n",
              "      <td>39.344444</td>\n",
              "      <td>1.000000</td>\n",
              "      <td>63.852600</td>\n",
              "      <td>359.000000</td>\n",
              "      <td>16.100000</td>\n",
              "      <td>0.0</td>\n",
              "      <td>1046.380000</td>\n",
              "    </tr>\n",
              "  </tbody>\n",
              "</table>\n",
              "</div>"
            ],
            "text/plain": [
              "       Temperature (C)  ...  Pressure (millibars)\n",
              "count     96453.000000  ...          96453.000000\n",
              "mean         11.932678  ...           1003.235956\n",
              "std           9.551546  ...            116.969906\n",
              "min         -21.822222  ...              0.000000\n",
              "25%           4.688889  ...           1011.900000\n",
              "50%          12.000000  ...           1016.450000\n",
              "75%          18.838889  ...           1021.090000\n",
              "max          39.905556  ...           1046.380000\n",
              "\n",
              "[8 rows x 8 columns]"
            ]
          },
          "metadata": {
            "tags": []
          },
          "execution_count": 69
        }
      ]
    },
    {
      "cell_type": "code",
      "metadata": {
        "id": "An-xm2KDTvVy",
        "colab_type": "code",
        "outputId": "de917282-e44a-460c-97eb-73542a89c9a3",
        "colab": {
          "base_uri": "https://localhost:8080/",
          "height": 238
        }
      },
      "source": [
        "weather.isnull().any() ## to check for null values in the datasets"
      ],
      "execution_count": 0,
      "outputs": [
        {
          "output_type": "execute_result",
          "data": {
            "text/plain": [
              "Formatted Date              False\n",
              "Summary                     False\n",
              "Precip Type                  True\n",
              "Temperature (C)             False\n",
              "Apparent Temperature (C)    False\n",
              "Humidity                    False\n",
              "Wind Speed (km/h)           False\n",
              "Wind Bearing (degrees)      False\n",
              "Visibility (km)             False\n",
              "Loud Cover                  False\n",
              "Pressure (millibars)        False\n",
              "Daily Summary               False\n",
              "dtype: bool"
            ]
          },
          "metadata": {
            "tags": []
          },
          "execution_count": 71
        }
      ]
    },
    {
      "cell_type": "code",
      "metadata": {
        "id": "jZMeONmthJY5",
        "colab_type": "code",
        "outputId": "c34a75b5-8dae-46c5-f050-1088e3848230",
        "colab": {
          "base_uri": "https://localhost:8080/",
          "height": 238
        }
      },
      "source": [
        "weather.isnull().all()"
      ],
      "execution_count": 0,
      "outputs": [
        {
          "output_type": "execute_result",
          "data": {
            "text/plain": [
              "Formatted Date              False\n",
              "Summary                     False\n",
              "Precip Type                 False\n",
              "Temperature (C)             False\n",
              "Apparent Temperature (C)    False\n",
              "Humidity                    False\n",
              "Wind Speed (km/h)           False\n",
              "Wind Bearing (degrees)      False\n",
              "Visibility (km)             False\n",
              "Loud Cover                  False\n",
              "Pressure (millibars)        False\n",
              "Daily Summary               False\n",
              "dtype: bool"
            ]
          },
          "metadata": {
            "tags": []
          },
          "execution_count": 87
        }
      ]
    },
    {
      "cell_type": "markdown",
      "metadata": {
        "id": "mn7vy7sHhX5n",
        "colab_type": "text"
      },
      "source": [
        "\"CHECKING THE NUMBER OF NULLS IN %\"\n"
      ]
    },
    {
      "cell_type": "code",
      "metadata": {
        "id": "Mh27Xe6ahfFL",
        "colab_type": "code",
        "outputId": "2d88435d-b0c1-4ad7-e2c5-62db2c3f98d6",
        "colab": {
          "base_uri": "https://localhost:8080/",
          "height": 238
        }
      },
      "source": [
        "round(100*(weather.isnull().sum()/len(weather.index)),2)"
      ],
      "execution_count": 0,
      "outputs": [
        {
          "output_type": "execute_result",
          "data": {
            "text/plain": [
              "Formatted Date              0.00\n",
              "Summary                     0.00\n",
              "Precip Type                 0.54\n",
              "Temperature (C)             0.00\n",
              "Apparent Temperature (C)    0.00\n",
              "Humidity                    0.00\n",
              "Wind Speed (km/h)           0.00\n",
              "Wind Bearing (degrees)      0.00\n",
              "Visibility (km)             0.00\n",
              "Loud Cover                  0.00\n",
              "Pressure (millibars)        0.00\n",
              "Daily Summary               0.00\n",
              "dtype: float64"
            ]
          },
          "metadata": {
            "tags": []
          },
          "execution_count": 88
        }
      ]
    },
    {
      "cell_type": "markdown",
      "metadata": {
        "id": "zL6pq8tNiTwg",
        "colab_type": "text"
      },
      "source": [
        "Now,We will try to impute Null with the maximum Occured values\n"
      ]
    },
    {
      "cell_type": "code",
      "metadata": {
        "id": "505xSJT0hWfA",
        "colab_type": "code",
        "colab": {}
      },
      "source": [
        ""
      ],
      "execution_count": 0,
      "outputs": []
    },
    {
      "cell_type": "code",
      "metadata": {
        "id": "-XSgQH8MT9ks",
        "colab_type": "code",
        "outputId": "6347adf3-74e2-4d37-93fe-cb409ad575bb",
        "colab": {
          "base_uri": "https://localhost:8080/",
          "height": 68
        }
      },
      "source": [
        "weather['Precip Type'].value_counts()"
      ],
      "execution_count": 0,
      "outputs": [
        {
          "output_type": "execute_result",
          "data": {
            "text/plain": [
              "rain    85224\n",
              "snow    10712\n",
              "Name: Precip Type, dtype: int64"
            ]
          },
          "metadata": {
            "tags": []
          },
          "execution_count": 72
        }
      ]
    },
    {
      "cell_type": "code",
      "metadata": {
        "id": "AOOtuCZ2USKq",
        "colab_type": "code",
        "outputId": "8c43e22e-a336-4582-ca29-2257c1f2c73c",
        "colab": {
          "base_uri": "https://localhost:8080/",
          "height": 221
        }
      },
      "source": [
        "weather.loc[weather['Precip Type'].isnull(),'Precip Type']-'rain'"
      ],
      "execution_count": 0,
      "outputs": [
        {
          "output_type": "execute_result",
          "data": {
            "text/plain": [
              "52672    NaN\n",
              "52674    NaN\n",
              "52675    NaN\n",
              "52677    NaN\n",
              "52678    NaN\n",
              "        ... \n",
              "95584    NaN\n",
              "95585    NaN\n",
              "95586    NaN\n",
              "95587    NaN\n",
              "95588    NaN\n",
              "Name: Precip Type, Length: 517, dtype: object"
            ]
          },
          "metadata": {
            "tags": []
          },
          "execution_count": 73
        }
      ]
    },
    {
      "cell_type": "code",
      "metadata": {
        "id": "AXS6QguDUtQu",
        "colab_type": "code",
        "outputId": "d196bae0-dba4-4436-bef9-0d99b80d77a2",
        "colab": {
          "base_uri": "https://localhost:8080/",
          "height": 221
        }
      },
      "source": [
        "weather.loc[weather['Precip Type'].isnull(),'Precip Type']-'snow'"
      ],
      "execution_count": 0,
      "outputs": [
        {
          "output_type": "execute_result",
          "data": {
            "text/plain": [
              "52672    NaN\n",
              "52674    NaN\n",
              "52675    NaN\n",
              "52677    NaN\n",
              "52678    NaN\n",
              "        ... \n",
              "95584    NaN\n",
              "95585    NaN\n",
              "95586    NaN\n",
              "95587    NaN\n",
              "95588    NaN\n",
              "Name: Precip Type, Length: 517, dtype: object"
            ]
          },
          "metadata": {
            "tags": []
          },
          "execution_count": 74
        }
      ]
    },
    {
      "cell_type": "code",
      "metadata": {
        "id": "mDbbw6buUzLZ",
        "colab_type": "code",
        "colab": {}
      },
      "source": [
        "weather.loc[weather['Precip Type']=='rain','Precip Type']=1  ## Inputing binary values in Type Columns\n",
        "weather.loc[weather['Precip Type']=='snow','Precip Type']=0"
      ],
      "execution_count": 0,
      "outputs": []
    },
    {
      "cell_type": "code",
      "metadata": {
        "id": "_GgKgT2tVW1I",
        "colab_type": "code",
        "colab": {}
      },
      "source": [
        "weather_num = weather[list(weather.dtypes[weather.dtypes!='object'].index)]"
      ],
      "execution_count": 0,
      "outputs": []
    },
    {
      "cell_type": "code",
      "metadata": {
        "id": "jneJ-kqXbC1g",
        "colab_type": "code",
        "colab": {}
      },
      "source": [
        "weather_y = weather_num.pop('Temperature (C)')\n",
        "weather_X = weather_num"
      ],
      "execution_count": 0,
      "outputs": []
    },
    {
      "cell_type": "code",
      "metadata": {
        "id": "cFbr2oVNjrlv",
        "colab_type": "code",
        "colab": {}
      },
      "source": [
        ""
      ],
      "execution_count": 0,
      "outputs": []
    },
    {
      "cell_type": "markdown",
      "metadata": {
        "id": "n0j12tlpjsVy",
        "colab_type": "text"
      },
      "source": [
        "**Spilliting the Data for training and Testing purpose\n",
        "**"
      ]
    },
    {
      "cell_type": "code",
      "metadata": {
        "id": "4GjLj2y5dOhJ",
        "colab_type": "code",
        "colab": {}
      },
      "source": [
        "train_X,test_X,train_y,test_y = train_test_split(weather_X,weather_y,test_size=.3,random_state=5)"
      ],
      "execution_count": 0,
      "outputs": []
    },
    {
      "cell_type": "code",
      "metadata": {
        "id": "3udcklkHj2Qy",
        "colab_type": "code",
        "outputId": "899d448d-df4d-493f-a936-191943b7b9b5",
        "colab": {
          "base_uri": "https://localhost:8080/",
          "height": 436
        }
      },
      "source": [
        "train_X"
      ],
      "execution_count": 0,
      "outputs": [
        {
          "output_type": "execute_result",
          "data": {
            "text/html": [
              "<div>\n",
              "<style scoped>\n",
              "    .dataframe tbody tr th:only-of-type {\n",
              "        vertical-align: middle;\n",
              "    }\n",
              "\n",
              "    .dataframe tbody tr th {\n",
              "        vertical-align: top;\n",
              "    }\n",
              "\n",
              "    .dataframe thead th {\n",
              "        text-align: right;\n",
              "    }\n",
              "</style>\n",
              "<table border=\"1\" class=\"dataframe\">\n",
              "  <thead>\n",
              "    <tr style=\"text-align: right;\">\n",
              "      <th></th>\n",
              "      <th>Apparent Temperature (C)</th>\n",
              "      <th>Humidity</th>\n",
              "      <th>Wind Speed (km/h)</th>\n",
              "      <th>Wind Bearing (degrees)</th>\n",
              "      <th>Visibility (km)</th>\n",
              "      <th>Loud Cover</th>\n",
              "      <th>Pressure (millibars)</th>\n",
              "    </tr>\n",
              "  </thead>\n",
              "  <tbody>\n",
              "    <tr>\n",
              "      <th>62570</th>\n",
              "      <td>16.966667</td>\n",
              "      <td>0.94</td>\n",
              "      <td>1.6744</td>\n",
              "      <td>325.0</td>\n",
              "      <td>0.9982</td>\n",
              "      <td>0.0</td>\n",
              "      <td>1013.19</td>\n",
              "    </tr>\n",
              "    <tr>\n",
              "      <th>37668</th>\n",
              "      <td>12.172222</td>\n",
              "      <td>0.72</td>\n",
              "      <td>20.3343</td>\n",
              "      <td>141.0</td>\n",
              "      <td>9.9820</td>\n",
              "      <td>0.0</td>\n",
              "      <td>1004.01</td>\n",
              "    </tr>\n",
              "    <tr>\n",
              "      <th>18417</th>\n",
              "      <td>29.066667</td>\n",
              "      <td>0.36</td>\n",
              "      <td>20.2055</td>\n",
              "      <td>161.0</td>\n",
              "      <td>9.9820</td>\n",
              "      <td>0.0</td>\n",
              "      <td>1008.83</td>\n",
              "    </tr>\n",
              "    <tr>\n",
              "      <th>8967</th>\n",
              "      <td>17.355556</td>\n",
              "      <td>0.26</td>\n",
              "      <td>20.7368</td>\n",
              "      <td>41.0</td>\n",
              "      <td>9.9820</td>\n",
              "      <td>0.0</td>\n",
              "      <td>1022.75</td>\n",
              "    </tr>\n",
              "    <tr>\n",
              "      <th>38533</th>\n",
              "      <td>-3.172222</td>\n",
              "      <td>0.73</td>\n",
              "      <td>25.2609</td>\n",
              "      <td>152.0</td>\n",
              "      <td>10.4006</td>\n",
              "      <td>0.0</td>\n",
              "      <td>992.85</td>\n",
              "    </tr>\n",
              "    <tr>\n",
              "      <th>...</th>\n",
              "      <td>...</td>\n",
              "      <td>...</td>\n",
              "      <td>...</td>\n",
              "      <td>...</td>\n",
              "      <td>...</td>\n",
              "      <td>...</td>\n",
              "      <td>...</td>\n",
              "    </tr>\n",
              "    <tr>\n",
              "      <th>59465</th>\n",
              "      <td>2.627778</td>\n",
              "      <td>0.99</td>\n",
              "      <td>10.8997</td>\n",
              "      <td>10.0</td>\n",
              "      <td>5.0393</td>\n",
              "      <td>0.0</td>\n",
              "      <td>1020.72</td>\n",
              "    </tr>\n",
              "    <tr>\n",
              "      <th>5520</th>\n",
              "      <td>6.955556</td>\n",
              "      <td>0.74</td>\n",
              "      <td>5.9087</td>\n",
              "      <td>184.0</td>\n",
              "      <td>15.6492</td>\n",
              "      <td>0.0</td>\n",
              "      <td>1018.10</td>\n",
              "    </tr>\n",
              "    <tr>\n",
              "      <th>20463</th>\n",
              "      <td>-9.544444</td>\n",
              "      <td>0.84</td>\n",
              "      <td>10.9319</td>\n",
              "      <td>10.0</td>\n",
              "      <td>2.0286</td>\n",
              "      <td>0.0</td>\n",
              "      <td>1023.62</td>\n",
              "    </tr>\n",
              "    <tr>\n",
              "      <th>18638</th>\n",
              "      <td>29.788889</td>\n",
              "      <td>0.34</td>\n",
              "      <td>15.1984</td>\n",
              "      <td>303.0</td>\n",
              "      <td>10.3523</td>\n",
              "      <td>0.0</td>\n",
              "      <td>1009.43</td>\n",
              "    </tr>\n",
              "    <tr>\n",
              "      <th>35683</th>\n",
              "      <td>16.083333</td>\n",
              "      <td>0.44</td>\n",
              "      <td>7.7602</td>\n",
              "      <td>120.0</td>\n",
              "      <td>9.9820</td>\n",
              "      <td>0.0</td>\n",
              "      <td>1017.61</td>\n",
              "    </tr>\n",
              "  </tbody>\n",
              "</table>\n",
              "<p>67517 rows × 7 columns</p>\n",
              "</div>"
            ],
            "text/plain": [
              "       Apparent Temperature (C)  Humidity  ...  Loud Cover  Pressure (millibars)\n",
              "62570                 16.966667      0.94  ...         0.0               1013.19\n",
              "37668                 12.172222      0.72  ...         0.0               1004.01\n",
              "18417                 29.066667      0.36  ...         0.0               1008.83\n",
              "8967                  17.355556      0.26  ...         0.0               1022.75\n",
              "38533                 -3.172222      0.73  ...         0.0                992.85\n",
              "...                         ...       ...  ...         ...                   ...\n",
              "59465                  2.627778      0.99  ...         0.0               1020.72\n",
              "5520                   6.955556      0.74  ...         0.0               1018.10\n",
              "20463                 -9.544444      0.84  ...         0.0               1023.62\n",
              "18638                 29.788889      0.34  ...         0.0               1009.43\n",
              "35683                 16.083333      0.44  ...         0.0               1017.61\n",
              "\n",
              "[67517 rows x 7 columns]"
            ]
          },
          "metadata": {
            "tags": []
          },
          "execution_count": 93
        }
      ]
    },
    {
      "cell_type": "markdown",
      "metadata": {
        "id": "gT2GGaO8kHHG",
        "colab_type": "text"
      },
      "source": [
        "*BUILDING THE MODEL\n",
        "*"
      ]
    },
    {
      "cell_type": "code",
      "metadata": {
        "id": "OCmbQ37BkGV5",
        "colab_type": "code",
        "outputId": "76cda7ec-595a-45c2-8f3b-37dbb12e296a",
        "colab": {
          "base_uri": "https://localhost:8080/",
          "height": 34
        }
      },
      "source": [
        "model = LinearRegression()\n",
        "model.fit(train_X,train_y)"
      ],
      "execution_count": 0,
      "outputs": [
        {
          "output_type": "execute_result",
          "data": {
            "text/plain": [
              "LinearRegression(copy_X=True, fit_intercept=True, n_jobs=None, normalize=False)"
            ]
          },
          "metadata": {
            "tags": []
          },
          "execution_count": 95
        }
      ]
    },
    {
      "cell_type": "code",
      "metadata": {
        "id": "vwSFjm-Nki3K",
        "colab_type": "code",
        "colab": {}
      },
      "source": [
        "prediction = model.predict(train_X)"
      ],
      "execution_count": 0,
      "outputs": []
    },
    {
      "cell_type": "code",
      "metadata": {
        "id": "AFHA_YX0kyzU",
        "colab_type": "code",
        "outputId": "f29a267f-015b-4a20-a3dc-fae246456349",
        "colab": {
          "base_uri": "https://localhost:8080/",
          "height": 34
        }
      },
      "source": [
        "np.mean((prediction-train_y)**2)  "
      ],
      "execution_count": 0,
      "outputs": [
        {
          "output_type": "execute_result",
          "data": {
            "text/plain": [
              "0.9038006913812638"
            ]
          },
          "metadata": {
            "tags": []
          },
          "execution_count": 102
        }
      ]
    },
    {
      "cell_type": "markdown",
      "metadata": {
        "colab_type": "text",
        "id": "GJBs_flRovLc"
      },
      "source": [
        "## **Getting started**\n",
        "\n",
        "The document you are reading is not a static web page, but an interactive environment called a **Colab notebook** that lets you write and execute code.\n",
        "\n",
        "For example, here is a **code cell** with a short Python script that computes a value, stores it in a variable, and prints the result:"
      ]
    },
    {
      "cell_type": "code",
      "metadata": {
        "id": "VuNRLVH8oCWb",
        "colab_type": "code",
        "colab": {}
      },
      "source": [
        "Error- .903800"
      ],
      "execution_count": 0,
      "outputs": []
    },
    {
      "cell_type": "code",
      "metadata": {
        "id": "pOqhumvqmu7j",
        "colab_type": "code",
        "outputId": "8194fd01-71e1-466e-caa7-21cafae7a7b1",
        "colab": {
          "base_uri": "https://localhost:8080/",
          "height": 419
        }
      },
      "source": [
        "pd.DataFrame({'actual':train_y,'prediction':prediction,'diff':(train_y-prediction)}) "
      ],
      "execution_count": 0,
      "outputs": [
        {
          "output_type": "execute_result",
          "data": {
            "text/html": [
              "<div>\n",
              "<style scoped>\n",
              "    .dataframe tbody tr th:only-of-type {\n",
              "        vertical-align: middle;\n",
              "    }\n",
              "\n",
              "    .dataframe tbody tr th {\n",
              "        vertical-align: top;\n",
              "    }\n",
              "\n",
              "    .dataframe thead th {\n",
              "        text-align: right;\n",
              "    }\n",
              "</style>\n",
              "<table border=\"1\" class=\"dataframe\">\n",
              "  <thead>\n",
              "    <tr style=\"text-align: right;\">\n",
              "      <th></th>\n",
              "      <th>actual</th>\n",
              "      <th>prediction</th>\n",
              "      <th>diff</th>\n",
              "    </tr>\n",
              "  </thead>\n",
              "  <tbody>\n",
              "    <tr>\n",
              "      <th>62570</th>\n",
              "      <td>16.966667</td>\n",
              "      <td>16.103790</td>\n",
              "      <td>0.862877</td>\n",
              "    </tr>\n",
              "    <tr>\n",
              "      <th>37668</th>\n",
              "      <td>12.172222</td>\n",
              "      <td>13.882550</td>\n",
              "      <td>-1.710328</td>\n",
              "    </tr>\n",
              "    <tr>\n",
              "      <th>18417</th>\n",
              "      <td>29.777778</td>\n",
              "      <td>29.114089</td>\n",
              "      <td>0.663689</td>\n",
              "    </tr>\n",
              "    <tr>\n",
              "      <th>8967</th>\n",
              "      <td>17.355556</td>\n",
              "      <td>19.131934</td>\n",
              "      <td>-1.776378</td>\n",
              "    </tr>\n",
              "    <tr>\n",
              "      <th>38533</th>\n",
              "      <td>2.138889</td>\n",
              "      <td>0.878245</td>\n",
              "      <td>1.260644</td>\n",
              "    </tr>\n",
              "    <tr>\n",
              "      <th>...</th>\n",
              "      <td>...</td>\n",
              "      <td>...</td>\n",
              "      <td>...</td>\n",
              "    </tr>\n",
              "    <tr>\n",
              "      <th>59465</th>\n",
              "      <td>5.116667</td>\n",
              "      <td>4.428254</td>\n",
              "      <td>0.688412</td>\n",
              "    </tr>\n",
              "    <tr>\n",
              "      <th>5520</th>\n",
              "      <td>7.777778</td>\n",
              "      <td>8.172523</td>\n",
              "      <td>-0.394746</td>\n",
              "    </tr>\n",
              "    <tr>\n",
              "      <th>20463</th>\n",
              "      <td>-5.000000</td>\n",
              "      <td>-5.998081</td>\n",
              "      <td>0.998081</td>\n",
              "    </tr>\n",
              "    <tr>\n",
              "      <th>18638</th>\n",
              "      <td>30.722222</td>\n",
              "      <td>29.314146</td>\n",
              "      <td>1.408076</td>\n",
              "    </tr>\n",
              "    <tr>\n",
              "      <th>35683</th>\n",
              "      <td>16.083333</td>\n",
              "      <td>16.692811</td>\n",
              "      <td>-0.609478</td>\n",
              "    </tr>\n",
              "  </tbody>\n",
              "</table>\n",
              "<p>67517 rows × 3 columns</p>\n",
              "</div>"
            ],
            "text/plain": [
              "          actual  prediction      diff\n",
              "62570  16.966667   16.103790  0.862877\n",
              "37668  12.172222   13.882550 -1.710328\n",
              "18417  29.777778   29.114089  0.663689\n",
              "8967   17.355556   19.131934 -1.776378\n",
              "38533   2.138889    0.878245  1.260644\n",
              "...          ...         ...       ...\n",
              "59465   5.116667    4.428254  0.688412\n",
              "5520    7.777778    8.172523 -0.394746\n",
              "20463  -5.000000   -5.998081  0.998081\n",
              "18638  30.722222   29.314146  1.408076\n",
              "35683  16.083333   16.692811 -0.609478\n",
              "\n",
              "[67517 rows x 3 columns]"
            ]
          },
          "metadata": {
            "tags": []
          },
          "execution_count": 105
        }
      ]
    },
    {
      "cell_type": "code",
      "metadata": {
        "id": "Y7dWXPG7oKoi",
        "colab_type": "code",
        "colab": {}
      },
      "source": [
        "prediction = model.predict(test_X)"
      ],
      "execution_count": 0,
      "outputs": []
    },
    {
      "cell_type": "code",
      "metadata": {
        "id": "vq9W3dcToRqi",
        "colab_type": "code",
        "outputId": "6b04a606-2bdb-419e-ca97-663d66343f5a",
        "colab": {
          "base_uri": "https://localhost:8080/",
          "height": 34
        }
      },
      "source": [
        "np.mean((prediction-test_y)**2)  "
      ],
      "execution_count": 0,
      "outputs": [
        {
          "output_type": "execute_result",
          "data": {
            "text/plain": [
              "0.8932472737896555"
            ]
          },
          "metadata": {
            "tags": []
          },
          "execution_count": 107
        }
      ]
    },
    {
      "cell_type": "code",
      "metadata": {
        "id": "sNLkWS1kofMQ",
        "colab_type": "code",
        "colab": {}
      },
      "source": [
        ""
      ],
      "execution_count": 0,
      "outputs": []
    },
    {
      "cell_type": "markdown",
      "metadata": {
        "id": "UWod9maCohZO",
        "colab_type": "text"
      },
      "source": [
        "**POLYNOMIAL REGRESSION\n",
        "**"
      ]
    },
    {
      "cell_type": "code",
      "metadata": {
        "id": "kE4lL2KhpEUS",
        "colab_type": "code",
        "colab": {}
      },
      "source": [
        "from sklearn.preprocessing import PolynomialFeatures"
      ],
      "execution_count": 0,
      "outputs": []
    },
    {
      "cell_type": "code",
      "metadata": {
        "id": "rbYgvR82pVo_",
        "colab_type": "code",
        "outputId": "c2d8ae7c-467d-41f9-af67-4501b775fcfc",
        "colab": {
          "base_uri": "https://localhost:8080/",
          "height": 51
        }
      },
      "source": [
        "poly = PolynomialFeatures(degree=4)\n",
        "X_poly = poly.fit_transform(train_X)\n",
        "poly.fit(X_poly,train_y)"
      ],
      "execution_count": 0,
      "outputs": [
        {
          "output_type": "execute_result",
          "data": {
            "text/plain": [
              "PolynomialFeatures(degree=4, include_bias=True, interaction_only=False,\n",
              "                   order='C')"
            ]
          },
          "metadata": {
            "tags": []
          },
          "execution_count": 120
        }
      ]
    },
    {
      "cell_type": "code",
      "metadata": {
        "id": "eACq9nIoroMa",
        "colab_type": "code",
        "outputId": "be74328b-b787-4317-8d94-9356204d18a6",
        "colab": {
          "base_uri": "https://localhost:8080/",
          "height": 34
        }
      },
      "source": [
        "Lin2 = LinearRegression()\n",
        "Lin2.fit(X_poly, train_y)"
      ],
      "execution_count": 0,
      "outputs": [
        {
          "output_type": "execute_result",
          "data": {
            "text/plain": [
              "LinearRegression(copy_X=True, fit_intercept=True, n_jobs=None, normalize=False)"
            ]
          },
          "metadata": {
            "tags": []
          },
          "execution_count": 124
        }
      ]
    },
    {
      "cell_type": "code",
      "metadata": {
        "id": "8J_k8pvktoKQ",
        "colab_type": "code",
        "outputId": "a754b11f-ba0c-44da-8f31-8fd670bbfd56",
        "colab": {
          "base_uri": "https://localhost:8080/",
          "height": 34
        }
      },
      "source": [
        "prediction2 = Lin2.predict(poly.fit_transform(test_X))  ## Calculating the erroe\n",
        "np.mean((prediction2-test_y)**2)"
      ],
      "execution_count": 0,
      "outputs": [
        {
          "output_type": "execute_result",
          "data": {
            "text/plain": [
              "0.1419357579854669"
            ]
          },
          "metadata": {
            "tags": []
          },
          "execution_count": 128
        }
      ]
    },
    {
      "cell_type": "code",
      "metadata": {
        "id": "deqT7CZPuvlV",
        "colab_type": "code",
        "outputId": "35ef92ef-645d-4ac2-fb0d-57a4b444fc0e",
        "colab": {
          "base_uri": "https://localhost:8080/",
          "height": 419
        }
      },
      "source": [
        "pd.DataFrame({'Actual':test_y,'prediction':prediction2,'diff':(test_y-prediction2)})"
      ],
      "execution_count": 0,
      "outputs": [
        {
          "output_type": "execute_result",
          "data": {
            "text/html": [
              "<div>\n",
              "<style scoped>\n",
              "    .dataframe tbody tr th:only-of-type {\n",
              "        vertical-align: middle;\n",
              "    }\n",
              "\n",
              "    .dataframe tbody tr th {\n",
              "        vertical-align: top;\n",
              "    }\n",
              "\n",
              "    .dataframe thead th {\n",
              "        text-align: right;\n",
              "    }\n",
              "</style>\n",
              "<table border=\"1\" class=\"dataframe\">\n",
              "  <thead>\n",
              "    <tr style=\"text-align: right;\">\n",
              "      <th></th>\n",
              "      <th>Actual</th>\n",
              "      <th>prediction</th>\n",
              "      <th>diff</th>\n",
              "    </tr>\n",
              "  </thead>\n",
              "  <tbody>\n",
              "    <tr>\n",
              "      <th>31418</th>\n",
              "      <td>2.222222</td>\n",
              "      <td>2.686758</td>\n",
              "      <td>-0.464536</td>\n",
              "    </tr>\n",
              "    <tr>\n",
              "      <th>52873</th>\n",
              "      <td>-0.555556</td>\n",
              "      <td>-0.547753</td>\n",
              "      <td>-0.007803</td>\n",
              "    </tr>\n",
              "    <tr>\n",
              "      <th>32723</th>\n",
              "      <td>17.222222</td>\n",
              "      <td>17.289525</td>\n",
              "      <td>-0.067303</td>\n",
              "    </tr>\n",
              "    <tr>\n",
              "      <th>2194</th>\n",
              "      <td>10.950000</td>\n",
              "      <td>11.976793</td>\n",
              "      <td>-1.026793</td>\n",
              "    </tr>\n",
              "    <tr>\n",
              "      <th>7586</th>\n",
              "      <td>3.200000</td>\n",
              "      <td>2.980642</td>\n",
              "      <td>0.219358</td>\n",
              "    </tr>\n",
              "    <tr>\n",
              "      <th>...</th>\n",
              "      <td>...</td>\n",
              "      <td>...</td>\n",
              "      <td>...</td>\n",
              "    </tr>\n",
              "    <tr>\n",
              "      <th>84080</th>\n",
              "      <td>6.094444</td>\n",
              "      <td>5.805287</td>\n",
              "      <td>0.289157</td>\n",
              "    </tr>\n",
              "    <tr>\n",
              "      <th>20154</th>\n",
              "      <td>11.250000</td>\n",
              "      <td>11.891168</td>\n",
              "      <td>-0.641168</td>\n",
              "    </tr>\n",
              "    <tr>\n",
              "      <th>2438</th>\n",
              "      <td>12.194444</td>\n",
              "      <td>12.974283</td>\n",
              "      <td>-0.779839</td>\n",
              "    </tr>\n",
              "    <tr>\n",
              "      <th>10927</th>\n",
              "      <td>-0.933333</td>\n",
              "      <td>-0.881364</td>\n",
              "      <td>-0.051969</td>\n",
              "    </tr>\n",
              "    <tr>\n",
              "      <th>16740</th>\n",
              "      <td>17.222222</td>\n",
              "      <td>17.272580</td>\n",
              "      <td>-0.050357</td>\n",
              "    </tr>\n",
              "  </tbody>\n",
              "</table>\n",
              "<p>28936 rows × 3 columns</p>\n",
              "</div>"
            ],
            "text/plain": [
              "          Actual  prediction      diff\n",
              "31418   2.222222    2.686758 -0.464536\n",
              "52873  -0.555556   -0.547753 -0.007803\n",
              "32723  17.222222   17.289525 -0.067303\n",
              "2194   10.950000   11.976793 -1.026793\n",
              "7586    3.200000    2.980642  0.219358\n",
              "...          ...         ...       ...\n",
              "84080   6.094444    5.805287  0.289157\n",
              "20154  11.250000   11.891168 -0.641168\n",
              "2438   12.194444   12.974283 -0.779839\n",
              "10927  -0.933333   -0.881364 -0.051969\n",
              "16740  17.222222   17.272580 -0.050357\n",
              "\n",
              "[28936 rows x 3 columns]"
            ]
          },
          "metadata": {
            "tags": []
          },
          "execution_count": 129
        }
      ]
    },
    {
      "cell_type": "markdown",
      "metadata": {
        "id": "F3-k_0gYv9l9",
        "colab_type": "text"
      },
      "source": [
        "DECISION TREE REGRESSION - \n",
        "CART\n"
      ]
    },
    {
      "cell_type": "code",
      "metadata": {
        "id": "AkE5BCygwATa",
        "colab_type": "code",
        "outputId": "3b2f8a2f-2c66-43f1-ce14-b40181e089bd",
        "colab": {
          "base_uri": "https://localhost:8080/",
          "height": 119
        }
      },
      "source": [
        "from sklearn.tree import DecisionTreeRegressor\n",
        "regressor = DecisionTreeRegressor(random_state=0)\n",
        "regressor.fit(train_X,train_y)"
      ],
      "execution_count": 0,
      "outputs": [
        {
          "output_type": "execute_result",
          "data": {
            "text/plain": [
              "DecisionTreeRegressor(ccp_alpha=0.0, criterion='mse', max_depth=None,\n",
              "                      max_features=None, max_leaf_nodes=None,\n",
              "                      min_impurity_decrease=0.0, min_impurity_split=None,\n",
              "                      min_samples_leaf=1, min_samples_split=2,\n",
              "                      min_weight_fraction_leaf=0.0, presort='deprecated',\n",
              "                      random_state=0, splitter='best')"
            ]
          },
          "metadata": {
            "tags": []
          },
          "execution_count": 132
        }
      ]
    },
    {
      "cell_type": "code",
      "metadata": {
        "id": "pN36OP1rwp7e",
        "colab_type": "code",
        "outputId": "c81c606f-5e75-447a-a269-219257f185a0",
        "colab": {
          "base_uri": "https://localhost:8080/",
          "height": 34
        }
      },
      "source": [
        "prediction3 = regressor.predict(test_X)\n",
        "np.mean((prediction3-test_y)**2)"
      ],
      "execution_count": 0,
      "outputs": [
        {
          "output_type": "execute_result",
          "data": {
            "text/plain": [
              "0.008168127318867504"
            ]
          },
          "metadata": {
            "tags": []
          },
          "execution_count": 134
        }
      ]
    },
    {
      "cell_type": "code",
      "metadata": {
        "id": "nLD3ybzIymF7",
        "colab_type": "code",
        "outputId": "c1bfe42a-d1bb-49c8-821d-31809e6a9ce4",
        "colab": {
          "base_uri": "https://localhost:8080/",
          "height": 419
        }
      },
      "source": [
        "pd.DataFrame({'Actual':test_y,'prediction':prediction3,'diff':(test_y-prediction3)})"
      ],
      "execution_count": 0,
      "outputs": [
        {
          "output_type": "execute_result",
          "data": {
            "text/html": [
              "<div>\n",
              "<style scoped>\n",
              "    .dataframe tbody tr th:only-of-type {\n",
              "        vertical-align: middle;\n",
              "    }\n",
              "\n",
              "    .dataframe tbody tr th {\n",
              "        vertical-align: top;\n",
              "    }\n",
              "\n",
              "    .dataframe thead th {\n",
              "        text-align: right;\n",
              "    }\n",
              "</style>\n",
              "<table border=\"1\" class=\"dataframe\">\n",
              "  <thead>\n",
              "    <tr style=\"text-align: right;\">\n",
              "      <th></th>\n",
              "      <th>Actual</th>\n",
              "      <th>prediction</th>\n",
              "      <th>diff</th>\n",
              "    </tr>\n",
              "  </thead>\n",
              "  <tbody>\n",
              "    <tr>\n",
              "      <th>31418</th>\n",
              "      <td>2.222222</td>\n",
              "      <td>2.222222</td>\n",
              "      <td>0.000000e+00</td>\n",
              "    </tr>\n",
              "    <tr>\n",
              "      <th>52873</th>\n",
              "      <td>-0.555556</td>\n",
              "      <td>-0.555556</td>\n",
              "      <td>-1.110223e-16</td>\n",
              "    </tr>\n",
              "    <tr>\n",
              "      <th>32723</th>\n",
              "      <td>17.222222</td>\n",
              "      <td>17.222222</td>\n",
              "      <td>3.907985e-14</td>\n",
              "    </tr>\n",
              "    <tr>\n",
              "      <th>2194</th>\n",
              "      <td>10.950000</td>\n",
              "      <td>10.950000</td>\n",
              "      <td>0.000000e+00</td>\n",
              "    </tr>\n",
              "    <tr>\n",
              "      <th>7586</th>\n",
              "      <td>3.200000</td>\n",
              "      <td>3.133333</td>\n",
              "      <td>6.666667e-02</td>\n",
              "    </tr>\n",
              "    <tr>\n",
              "      <th>...</th>\n",
              "      <td>...</td>\n",
              "      <td>...</td>\n",
              "      <td>...</td>\n",
              "    </tr>\n",
              "    <tr>\n",
              "      <th>84080</th>\n",
              "      <td>6.094444</td>\n",
              "      <td>6.116667</td>\n",
              "      <td>-2.222222e-02</td>\n",
              "    </tr>\n",
              "    <tr>\n",
              "      <th>20154</th>\n",
              "      <td>11.250000</td>\n",
              "      <td>11.250000</td>\n",
              "      <td>0.000000e+00</td>\n",
              "    </tr>\n",
              "    <tr>\n",
              "      <th>2438</th>\n",
              "      <td>12.194444</td>\n",
              "      <td>12.194444</td>\n",
              "      <td>-7.105427e-15</td>\n",
              "    </tr>\n",
              "    <tr>\n",
              "      <th>10927</th>\n",
              "      <td>-0.933333</td>\n",
              "      <td>-0.911111</td>\n",
              "      <td>-2.222222e-02</td>\n",
              "    </tr>\n",
              "    <tr>\n",
              "      <th>16740</th>\n",
              "      <td>17.222222</td>\n",
              "      <td>17.222222</td>\n",
              "      <td>3.907985e-14</td>\n",
              "    </tr>\n",
              "  </tbody>\n",
              "</table>\n",
              "<p>28936 rows × 3 columns</p>\n",
              "</div>"
            ],
            "text/plain": [
              "          Actual  prediction          diff\n",
              "31418   2.222222    2.222222  0.000000e+00\n",
              "52873  -0.555556   -0.555556 -1.110223e-16\n",
              "32723  17.222222   17.222222  3.907985e-14\n",
              "2194   10.950000   10.950000  0.000000e+00\n",
              "7586    3.200000    3.133333  6.666667e-02\n",
              "...          ...         ...           ...\n",
              "84080   6.094444    6.116667 -2.222222e-02\n",
              "20154  11.250000   11.250000  0.000000e+00\n",
              "2438   12.194444   12.194444 -7.105427e-15\n",
              "10927  -0.933333   -0.911111 -2.222222e-02\n",
              "16740  17.222222   17.222222  3.907985e-14\n",
              "\n",
              "[28936 rows x 3 columns]"
            ]
          },
          "metadata": {
            "tags": []
          },
          "execution_count": 137
        }
      ]
    },
    {
      "cell_type": "code",
      "metadata": {
        "id": "Olk9ydz9vlvJ",
        "colab_type": "code",
        "colab": {}
      },
      "source": [
        ""
      ],
      "execution_count": 0,
      "outputs": []
    },
    {
      "cell_type": "markdown",
      "metadata": {
        "id": "uXkn_PcHywrt",
        "colab_type": "text"
      },
      "source": [
        "ERROR = .008\n"
      ]
    },
    {
      "cell_type": "markdown",
      "metadata": {
        "id": "EL19z3JNy7qL",
        "colab_type": "text"
      },
      "source": [
        "Random Forest with maximum Dept — 10\n",
        "\n"
      ]
    },
    {
      "cell_type": "code",
      "metadata": {
        "id": "L4UQhrPGy_Ju",
        "colab_type": "code",
        "outputId": "ee57ed66-c504-4123-f85f-e17432d7e929",
        "colab": {
          "base_uri": "https://localhost:8080/",
          "height": 136
        }
      },
      "source": [
        "from sklearn.ensemble import RandomForestRegressor\n",
        "regr = RandomForestRegressor(max_depth=10,random_state =0,n_estimators=100)\n",
        "regr.fit(train_X,train_y)"
      ],
      "execution_count": 0,
      "outputs": [
        {
          "output_type": "execute_result",
          "data": {
            "text/plain": [
              "RandomForestRegressor(bootstrap=True, ccp_alpha=0.0, criterion='mse',\n",
              "                      max_depth=10, max_features='auto', max_leaf_nodes=None,\n",
              "                      max_samples=None, min_impurity_decrease=0.0,\n",
              "                      min_impurity_split=None, min_samples_leaf=1,\n",
              "                      min_samples_split=2, min_weight_fraction_leaf=0.0,\n",
              "                      n_estimators=100, n_jobs=None, oob_score=False,\n",
              "                      random_state=0, verbose=0, warm_start=False)"
            ]
          },
          "metadata": {
            "tags": []
          },
          "execution_count": 140
        }
      ]
    },
    {
      "cell_type": "code",
      "metadata": {
        "id": "8y-SYGEdy2fN",
        "colab_type": "code",
        "outputId": "14e26d1a-cef3-49e8-f24f-077f5788406f",
        "colab": {
          "base_uri": "https://localhost:8080/",
          "height": 34
        }
      },
      "source": [
        "prediction4 = regr.predict(test_X)\n",
        "np.mean((prediction4-test_y)**2)"
      ],
      "execution_count": 0,
      "outputs": [
        {
          "output_type": "execute_result",
          "data": {
            "text/plain": [
              "0.007358670280304587"
            ]
          },
          "metadata": {
            "tags": []
          },
          "execution_count": 142
        }
      ]
    },
    {
      "cell_type": "code",
      "metadata": {
        "id": "buD_Y5Kl3Cpz",
        "colab_type": "code",
        "outputId": "0722fd81-b1c6-46ae-db35-ab0ce9adb24d",
        "colab": {
          "base_uri": "https://localhost:8080/",
          "height": 419
        }
      },
      "source": [
        "pd.DataFrame({'Actual':test_y,'prediction':prediction4,'diff':(test_y-prediction4)})"
      ],
      "execution_count": 0,
      "outputs": [
        {
          "output_type": "execute_result",
          "data": {
            "text/html": [
              "<div>\n",
              "<style scoped>\n",
              "    .dataframe tbody tr th:only-of-type {\n",
              "        vertical-align: middle;\n",
              "    }\n",
              "\n",
              "    .dataframe tbody tr th {\n",
              "        vertical-align: top;\n",
              "    }\n",
              "\n",
              "    .dataframe thead th {\n",
              "        text-align: right;\n",
              "    }\n",
              "</style>\n",
              "<table border=\"1\" class=\"dataframe\">\n",
              "  <thead>\n",
              "    <tr style=\"text-align: right;\">\n",
              "      <th></th>\n",
              "      <th>Actual</th>\n",
              "      <th>prediction</th>\n",
              "      <th>diff</th>\n",
              "    </tr>\n",
              "  </thead>\n",
              "  <tbody>\n",
              "    <tr>\n",
              "      <th>31418</th>\n",
              "      <td>2.222222</td>\n",
              "      <td>2.149134</td>\n",
              "      <td>0.073088</td>\n",
              "    </tr>\n",
              "    <tr>\n",
              "      <th>52873</th>\n",
              "      <td>-0.555556</td>\n",
              "      <td>-0.573915</td>\n",
              "      <td>0.018360</td>\n",
              "    </tr>\n",
              "    <tr>\n",
              "      <th>32723</th>\n",
              "      <td>17.222222</td>\n",
              "      <td>17.223085</td>\n",
              "      <td>-0.000863</td>\n",
              "    </tr>\n",
              "    <tr>\n",
              "      <th>2194</th>\n",
              "      <td>10.950000</td>\n",
              "      <td>10.949832</td>\n",
              "      <td>0.000168</td>\n",
              "    </tr>\n",
              "    <tr>\n",
              "      <th>7586</th>\n",
              "      <td>3.200000</td>\n",
              "      <td>3.193208</td>\n",
              "      <td>0.006792</td>\n",
              "    </tr>\n",
              "    <tr>\n",
              "      <th>...</th>\n",
              "      <td>...</td>\n",
              "      <td>...</td>\n",
              "      <td>...</td>\n",
              "    </tr>\n",
              "    <tr>\n",
              "      <th>84080</th>\n",
              "      <td>6.094444</td>\n",
              "      <td>6.095448</td>\n",
              "      <td>-0.001003</td>\n",
              "    </tr>\n",
              "    <tr>\n",
              "      <th>20154</th>\n",
              "      <td>11.250000</td>\n",
              "      <td>11.240951</td>\n",
              "      <td>0.009049</td>\n",
              "    </tr>\n",
              "    <tr>\n",
              "      <th>2438</th>\n",
              "      <td>12.194444</td>\n",
              "      <td>12.197518</td>\n",
              "      <td>-0.003074</td>\n",
              "    </tr>\n",
              "    <tr>\n",
              "      <th>10927</th>\n",
              "      <td>-0.933333</td>\n",
              "      <td>-0.892780</td>\n",
              "      <td>-0.040553</td>\n",
              "    </tr>\n",
              "    <tr>\n",
              "      <th>16740</th>\n",
              "      <td>17.222222</td>\n",
              "      <td>17.223085</td>\n",
              "      <td>-0.000863</td>\n",
              "    </tr>\n",
              "  </tbody>\n",
              "</table>\n",
              "<p>28936 rows × 3 columns</p>\n",
              "</div>"
            ],
            "text/plain": [
              "          Actual  prediction      diff\n",
              "31418   2.222222    2.149134  0.073088\n",
              "52873  -0.555556   -0.573915  0.018360\n",
              "32723  17.222222   17.223085 -0.000863\n",
              "2194   10.950000   10.949832  0.000168\n",
              "7586    3.200000    3.193208  0.006792\n",
              "...          ...         ...       ...\n",
              "84080   6.094444    6.095448 -0.001003\n",
              "20154  11.250000   11.240951  0.009049\n",
              "2438   12.194444   12.197518 -0.003074\n",
              "10927  -0.933333   -0.892780 -0.040553\n",
              "16740  17.222222   17.223085 -0.000863\n",
              "\n",
              "[28936 rows x 3 columns]"
            ]
          },
          "metadata": {
            "tags": []
          },
          "execution_count": 143
        }
      ]
    },
    {
      "cell_type": "markdown",
      "metadata": {
        "id": "Q7pNYNc63jVj",
        "colab_type": "text"
      },
      "source": [
        "ERROR -  .008\n"
      ]
    },
    {
      "cell_type": "markdown",
      "metadata": {
        "id": "6tNaRaux3rFc",
        "colab_type": "text"
      },
      "source": [
        "Random Forest with maximum depth — 50"
      ]
    },
    {
      "cell_type": "code",
      "metadata": {
        "id": "9Rr2_gJ63hND",
        "colab_type": "code",
        "outputId": "c320ed9b-6113-4392-c282-fdbe6929d04d",
        "colab": {
          "base_uri": "https://localhost:8080/",
          "height": 136
        }
      },
      "source": [
        "regr2 = RandomForestRegressor(max_depth=50,random_state=0,n_estimators=100)\n",
        "regr2.fit(train_X,train_y)"
      ],
      "execution_count": 0,
      "outputs": [
        {
          "output_type": "execute_result",
          "data": {
            "text/plain": [
              "RandomForestRegressor(bootstrap=True, ccp_alpha=0.0, criterion='mse',\n",
              "                      max_depth=50, max_features='auto', max_leaf_nodes=None,\n",
              "                      max_samples=None, min_impurity_decrease=0.0,\n",
              "                      min_impurity_split=None, min_samples_leaf=1,\n",
              "                      min_samples_split=2, min_weight_fraction_leaf=0.0,\n",
              "                      n_estimators=100, n_jobs=None, oob_score=False,\n",
              "                      random_state=0, verbose=0, warm_start=False)"
            ]
          },
          "metadata": {
            "tags": []
          },
          "execution_count": 145
        }
      ]
    },
    {
      "cell_type": "code",
      "metadata": {
        "id": "uqqI112wvjsv",
        "colab_type": "code",
        "outputId": "297287ca-fc7a-45bc-d084-4402798a8384",
        "colab": {
          "base_uri": "https://localhost:8080/",
          "height": 34
        }
      },
      "source": [
        "prediction5 = regr2.predict(test_X)\n",
        "np.mean((prediction5-test_y)**2)"
      ],
      "execution_count": 0,
      "outputs": [
        {
          "output_type": "execute_result",
          "data": {
            "text/plain": [
              "0.002170822503558345"
            ]
          },
          "metadata": {
            "tags": []
          },
          "execution_count": 149
        }
      ]
    },
    {
      "cell_type": "code",
      "metadata": {
        "id": "dUFWMXig5EkP",
        "colab_type": "code",
        "outputId": "7c059675-9588-4a6f-87c6-3bbea052f494",
        "colab": {
          "base_uri": "https://localhost:8080/",
          "height": 419
        }
      },
      "source": [
        "pd.DataFrame({'Actual':test_y,'prediction':prediction5,'diff':(test_y-prediction5)})"
      ],
      "execution_count": 0,
      "outputs": [
        {
          "output_type": "execute_result",
          "data": {
            "text/html": [
              "<div>\n",
              "<style scoped>\n",
              "    .dataframe tbody tr th:only-of-type {\n",
              "        vertical-align: middle;\n",
              "    }\n",
              "\n",
              "    .dataframe tbody tr th {\n",
              "        vertical-align: top;\n",
              "    }\n",
              "\n",
              "    .dataframe thead th {\n",
              "        text-align: right;\n",
              "    }\n",
              "</style>\n",
              "<table border=\"1\" class=\"dataframe\">\n",
              "  <thead>\n",
              "    <tr style=\"text-align: right;\">\n",
              "      <th></th>\n",
              "      <th>Actual</th>\n",
              "      <th>prediction</th>\n",
              "      <th>diff</th>\n",
              "    </tr>\n",
              "  </thead>\n",
              "  <tbody>\n",
              "    <tr>\n",
              "      <th>31418</th>\n",
              "      <td>2.222222</td>\n",
              "      <td>2.222222</td>\n",
              "      <td>-4.440892e-15</td>\n",
              "    </tr>\n",
              "    <tr>\n",
              "      <th>52873</th>\n",
              "      <td>-0.555556</td>\n",
              "      <td>-0.554000</td>\n",
              "      <td>-1.555556e-03</td>\n",
              "    </tr>\n",
              "    <tr>\n",
              "      <th>32723</th>\n",
              "      <td>17.222222</td>\n",
              "      <td>17.222222</td>\n",
              "      <td>4.263256e-14</td>\n",
              "    </tr>\n",
              "    <tr>\n",
              "      <th>2194</th>\n",
              "      <td>10.950000</td>\n",
              "      <td>10.950000</td>\n",
              "      <td>-2.131628e-14</td>\n",
              "    </tr>\n",
              "    <tr>\n",
              "      <th>7586</th>\n",
              "      <td>3.200000</td>\n",
              "      <td>3.203333</td>\n",
              "      <td>-3.333333e-03</td>\n",
              "    </tr>\n",
              "    <tr>\n",
              "      <th>...</th>\n",
              "      <td>...</td>\n",
              "      <td>...</td>\n",
              "      <td>...</td>\n",
              "    </tr>\n",
              "    <tr>\n",
              "      <th>84080</th>\n",
              "      <td>6.094444</td>\n",
              "      <td>6.114111</td>\n",
              "      <td>-1.966667e-02</td>\n",
              "    </tr>\n",
              "    <tr>\n",
              "      <th>20154</th>\n",
              "      <td>11.250000</td>\n",
              "      <td>11.250000</td>\n",
              "      <td>0.000000e+00</td>\n",
              "    </tr>\n",
              "    <tr>\n",
              "      <th>2438</th>\n",
              "      <td>12.194444</td>\n",
              "      <td>12.194444</td>\n",
              "      <td>8.881784e-15</td>\n",
              "    </tr>\n",
              "    <tr>\n",
              "      <th>10927</th>\n",
              "      <td>-0.933333</td>\n",
              "      <td>-0.943278</td>\n",
              "      <td>9.944444e-03</td>\n",
              "    </tr>\n",
              "    <tr>\n",
              "      <th>16740</th>\n",
              "      <td>17.222222</td>\n",
              "      <td>17.222222</td>\n",
              "      <td>4.263256e-14</td>\n",
              "    </tr>\n",
              "  </tbody>\n",
              "</table>\n",
              "<p>28936 rows × 3 columns</p>\n",
              "</div>"
            ],
            "text/plain": [
              "          Actual  prediction          diff\n",
              "31418   2.222222    2.222222 -4.440892e-15\n",
              "52873  -0.555556   -0.554000 -1.555556e-03\n",
              "32723  17.222222   17.222222  4.263256e-14\n",
              "2194   10.950000   10.950000 -2.131628e-14\n",
              "7586    3.200000    3.203333 -3.333333e-03\n",
              "...          ...         ...           ...\n",
              "84080   6.094444    6.114111 -1.966667e-02\n",
              "20154  11.250000   11.250000  0.000000e+00\n",
              "2438   12.194444   12.194444  8.881784e-15\n",
              "10927  -0.933333   -0.943278  9.944444e-03\n",
              "16740  17.222222   17.222222  4.263256e-14\n",
              "\n",
              "[28936 rows x 3 columns]"
            ]
          },
          "metadata": {
            "tags": []
          },
          "execution_count": 150
        }
      ]
    },
    {
      "cell_type": "markdown",
      "metadata": {
        "id": "Khv0cUZy5xCb",
        "colab_type": "text"
      },
      "source": [
        "Error — 0.0019\n",
        "This gives the least error.\n",
        "But we should always take care that our model is not overfitting the data. So sometimes even a model with least error can predict very bad outputs for more generalized inputs."
      ]
    },
    {
      "cell_type": "markdown",
      "metadata": {
        "id": "F3lG5SOs5zQ9",
        "colab_type": "text"
      },
      "source": [
        "Comparison:\n",
        "\n",
        "ERROR\n",
        "\n",
        "Linear Regression => .902\n",
        "Polynomial regression => 0.999\n",
        "CART => .008\n",
        "RANDOM FOREST DEPTH -10  => .008\n",
        "RANDOM FOREST DEPTH - 50 => .002"
      ]
    }
  ]
}